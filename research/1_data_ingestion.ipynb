{
 "cells": [
  {
   "cell_type": "code",
   "execution_count": 1,
   "id": "415d2332",
   "metadata": {},
   "outputs": [],
   "source": [
    "### Data Ingestion Module\n"
   ]
  },
  {
   "cell_type": "code",
   "execution_count": 2,
   "id": "90c2ae2e",
   "metadata": {},
   "outputs": [
    {
     "data": {
      "text/plain": [
       "'c:\\\\Users\\\\savit\\\\Research_Summarizer\\\\research'"
      ]
     },
     "execution_count": 2,
     "metadata": {},
     "output_type": "execute_result"
    }
   ],
   "source": [
    "import os\n",
    "%pwd"
   ]
  },
  {
   "cell_type": "code",
   "execution_count": 11,
   "id": "fa5cbd73",
   "metadata": {},
   "outputs": [
    {
     "data": {
      "text/plain": [
       "'C:\\\\Users\\\\savit\\\\Research_Summarizer'"
      ]
     },
     "execution_count": 11,
     "metadata": {},
     "output_type": "execute_result"
    }
   ],
   "source": [
    "os.chdir(r\"C:\\Users\\savit\\Research_Summarizer\")\n",
    "%pwd"
   ]
  },
  {
   "cell_type": "code",
   "execution_count": 27,
   "id": "adc361ea",
   "metadata": {},
   "outputs": [],
   "source": [
    "from dataclasses import dataclass\n",
    "from pathlib import Path\n",
    "\n",
    "@dataclass\n",
    "class DataIngestionConfig:\n",
    "    root_dir : Path\n",
    "    source_url : Path\n",
    "    local_data_file:Path\n",
    "    unzip_dir: Path\n",
    "\n",
    "    \n"
   ]
  },
  {
   "cell_type": "code",
   "execution_count": 28,
   "id": "09bdc10b",
   "metadata": {},
   "outputs": [],
   "source": [
    "from src.ResearchSummarizer.constants import *\n",
    "from src.ResearchSummarizer.utils.common import read_yaml, create_directories"
   ]
  },
  {
   "cell_type": "code",
   "execution_count": 29,
   "id": "86a000cf",
   "metadata": {},
   "outputs": [],
   "source": [
    "class ConfigurationManager:\n",
    "    def __init__(self, config_filepath=CONFIG_FILE_PATH, params_filepath=PARAMS_FILE_PATH):\n",
    "        self.config = read_yaml(config_filepath)\n",
    "        self.params = read_yaml(params_filepath)\n",
    "        create_directories([self.config.artifacts_root])\n",
    "\n",
    "    def get_data_ingestion_config(self):\n",
    "        config = self.config.data_ingestion\n",
    "        create_directories([config.root_dir])\n",
    "        return DataIngestionConfig(\n",
    "            root_dir=config.root_dir,\n",
    "            source_url=config.source_url,\n",
    "            local_data_file=config.local_data_file,\n",
    "            unzip_dir=config.unzip_dir\n",
    "        )\n"
   ]
  },
  {
   "cell_type": "code",
   "execution_count": 30,
   "id": "5d19f233",
   "metadata": {},
   "outputs": [],
   "source": [
    "import os\n",
    "import urllib.request as request\n",
    "import zipfile\n",
    "from src.ResearchSummarizer.logging import logger\n",
    "\n",
    "\n"
   ]
  },
  {
   "cell_type": "code",
   "execution_count": 31,
   "id": "8fd9d683",
   "metadata": {},
   "outputs": [],
   "source": [
    "class DataIngestion:\n",
    "    def __init__(self, config: DataIngestionConfig):\n",
    "        self.config = config\n",
    "\n",
    "    def download_file(self):\n",
    "        if not os.path.exists(self.config.local_data_file):\n",
    "            request.urlretrieve(self.config.source_url, self.config.local_data_file)\n",
    "            logger.info(f\"File downloaded to {self.config.local_data_file}\")\n",
    "        else:\n",
    "            logger.info(\"File already exists.\")\n",
    "\n",
    "    def extract_zip_file(self):\n",
    "        os.makedirs(self.config.unzip_dir, exist_ok=True)\n",
    "        with zipfile.ZipFile(self.config.local_data_file, 'r') as zip_ref:\n",
    "            zip_ref.extractall(self.config.unzip_dir)\n",
    "            logger.info(f\"Extracted zip file to {self.config.unzip_dir}\")\n",
    "    \n"
   ]
  },
  {
   "cell_type": "code",
   "execution_count": 33,
   "id": "0e4e4e0f",
   "metadata": {},
   "outputs": [
    {
     "name": "stdout",
     "output_type": "stream",
     "text": [
      "[2025-08-30 21:36:52,417: INFO: common: YAML file loaded successfully: config\\config.yaml]\n",
      "[2025-08-30 21:36:52,430: INFO: common: YAML file loaded successfully: params.yaml]\n",
      "[2025-08-30 21:36:52,431: INFO: common: ceated dictionary at : artifacts]\n",
      "[2025-08-30 21:36:52,432: INFO: common: ceated dictionary at : artifacts/data_ingestion]\n",
      "[2025-08-30 21:36:52,434: INFO: 2270169868: File already exists.]\n",
      "[2025-08-30 21:36:52,604: INFO: 2270169868: Extracted zip file to artifacts/data_ingestion]\n"
     ]
    }
   ],
   "source": [
    "config= ConfigurationManager()\n",
    "data_ingestion_config = config.get_data_ingestion_config()\n",
    "data_ingestion = DataIngestion(config=data_ingestion_config)\n",
    "data_ingestion.download_file()\n",
    "data_ingestion.extract_zip_file()"
   ]
  },
  {
   "cell_type": "code",
   "execution_count": null,
   "id": "c4f7efc4",
   "metadata": {},
   "outputs": [],
   "source": []
  }
 ],
 "metadata": {
  "kernelspec": {
   "display_name": "Python 3",
   "language": "python",
   "name": "python3"
  },
  "language_info": {
   "codemirror_mode": {
    "name": "ipython",
    "version": 3
   },
   "file_extension": ".py",
   "mimetype": "text/x-python",
   "name": "python",
   "nbconvert_exporter": "python",
   "pygments_lexer": "ipython3",
   "version": "3.10.0"
  }
 },
 "nbformat": 4,
 "nbformat_minor": 5
}
